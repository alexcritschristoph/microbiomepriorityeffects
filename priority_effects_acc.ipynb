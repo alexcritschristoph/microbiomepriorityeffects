{
 "cells": [
  {
   "cell_type": "code",
   "execution_count": 59,
   "metadata": {
    "collapsed": true
   },
   "outputs": [],
   "source": [
    "import pandas as pd\n",
    "import matplotlib.pyplot as plt\n",
    "import matplotlib\n",
    "import seaborn as sns\n",
    "import numpy as np\n",
    "from collections import defaultdict"
   ]
  },
  {
   "cell_type": "code",
   "execution_count": 2,
   "metadata": {
    "collapsed": true
   },
   "outputs": [],
   "source": [
    "t = pd.read_csv('../foodwebs/guittar2019/SILVA_taxonomy.csv') # taxonomy"
   ]
  },
  {
   "cell_type": "code",
   "execution_count": 3,
   "metadata": {
    "collapsed": true
   },
   "outputs": [],
   "source": [
    "m = pd.read_csv('../foodwebs/guittar2019/metadata.csv') # metadata"
   ]
  },
  {
   "cell_type": "code",
   "execution_count": 5,
   "metadata": {
    "collapsed": true
   },
   "outputs": [],
   "source": [
    "d = pd.read_csv('../foodwebs/guittar2019/otus.csv') # otu table"
   ]
  },
  {
   "cell_type": "code",
   "execution_count": 16,
   "metadata": {},
   "outputs": [
    {
     "data": {
      "text/html": [
       "<div>\n",
       "<style scoped>\n",
       "    .dataframe tbody tr th:only-of-type {\n",
       "        vertical-align: middle;\n",
       "    }\n",
       "\n",
       "    .dataframe tbody tr th {\n",
       "        vertical-align: top;\n",
       "    }\n",
       "\n",
       "    .dataframe thead th {\n",
       "        text-align: right;\n",
       "    }\n",
       "</style>\n",
       "<table border=\"1\" class=\"dataframe\">\n",
       "  <thead>\n",
       "    <tr style=\"text-align: right;\">\n",
       "      <th></th>\n",
       "      <th>Unnamed: 0</th>\n",
       "      <th>sampleID</th>\n",
       "      <th>subject</th>\n",
       "      <th>t</th>\n",
       "      <th>OTU1</th>\n",
       "      <th>OTU10</th>\n",
       "      <th>OTU100</th>\n",
       "      <th>OTU1000</th>\n",
       "      <th>OTU1002</th>\n",
       "      <th>OTU1003</th>\n",
       "      <th>...</th>\n",
       "      <th>OTU989</th>\n",
       "      <th>OTU99</th>\n",
       "      <th>OTU990</th>\n",
       "      <th>OTU991</th>\n",
       "      <th>OTU992</th>\n",
       "      <th>OTU993</th>\n",
       "      <th>OTU995</th>\n",
       "      <th>OTU997</th>\n",
       "      <th>OTU998</th>\n",
       "      <th>OTU999</th>\n",
       "    </tr>\n",
       "  </thead>\n",
       "  <tbody>\n",
       "    <tr>\n",
       "      <th>0</th>\n",
       "      <td>1</td>\n",
       "      <td>E000823_1.8</td>\n",
       "      <td>E000823</td>\n",
       "      <td>1.8</td>\n",
       "      <td>265</td>\n",
       "      <td>0</td>\n",
       "      <td>16</td>\n",
       "      <td>0</td>\n",
       "      <td>0</td>\n",
       "      <td>0</td>\n",
       "      <td>...</td>\n",
       "      <td>0</td>\n",
       "      <td>0</td>\n",
       "      <td>0</td>\n",
       "      <td>0</td>\n",
       "      <td>0</td>\n",
       "      <td>0</td>\n",
       "      <td>0</td>\n",
       "      <td>0</td>\n",
       "      <td>0</td>\n",
       "      <td>0</td>\n",
       "    </tr>\n",
       "    <tr>\n",
       "      <th>1</th>\n",
       "      <td>2</td>\n",
       "      <td>E000823_10.5</td>\n",
       "      <td>E000823</td>\n",
       "      <td>10.5</td>\n",
       "      <td>74</td>\n",
       "      <td>0</td>\n",
       "      <td>37</td>\n",
       "      <td>0</td>\n",
       "      <td>0</td>\n",
       "      <td>0</td>\n",
       "      <td>...</td>\n",
       "      <td>0</td>\n",
       "      <td>2</td>\n",
       "      <td>0</td>\n",
       "      <td>0</td>\n",
       "      <td>0</td>\n",
       "      <td>0</td>\n",
       "      <td>0</td>\n",
       "      <td>0</td>\n",
       "      <td>0</td>\n",
       "      <td>0</td>\n",
       "    </tr>\n",
       "    <tr>\n",
       "      <th>2</th>\n",
       "      <td>3</td>\n",
       "      <td>E000823_12.5</td>\n",
       "      <td>E000823</td>\n",
       "      <td>12.5</td>\n",
       "      <td>214</td>\n",
       "      <td>295</td>\n",
       "      <td>0</td>\n",
       "      <td>0</td>\n",
       "      <td>0</td>\n",
       "      <td>0</td>\n",
       "      <td>...</td>\n",
       "      <td>0</td>\n",
       "      <td>0</td>\n",
       "      <td>0</td>\n",
       "      <td>0</td>\n",
       "      <td>0</td>\n",
       "      <td>0</td>\n",
       "      <td>0</td>\n",
       "      <td>0</td>\n",
       "      <td>0</td>\n",
       "      <td>0</td>\n",
       "    </tr>\n",
       "    <tr>\n",
       "      <th>3</th>\n",
       "      <td>4</td>\n",
       "      <td>E000823_14</td>\n",
       "      <td>E000823</td>\n",
       "      <td>14.0</td>\n",
       "      <td>753</td>\n",
       "      <td>359</td>\n",
       "      <td>0</td>\n",
       "      <td>0</td>\n",
       "      <td>0</td>\n",
       "      <td>0</td>\n",
       "      <td>...</td>\n",
       "      <td>0</td>\n",
       "      <td>8</td>\n",
       "      <td>0</td>\n",
       "      <td>0</td>\n",
       "      <td>0</td>\n",
       "      <td>0</td>\n",
       "      <td>0</td>\n",
       "      <td>0</td>\n",
       "      <td>0</td>\n",
       "      <td>0</td>\n",
       "    </tr>\n",
       "    <tr>\n",
       "      <th>4</th>\n",
       "      <td>5</td>\n",
       "      <td>E000823_15.7</td>\n",
       "      <td>E000823</td>\n",
       "      <td>15.7</td>\n",
       "      <td>736</td>\n",
       "      <td>188</td>\n",
       "      <td>0</td>\n",
       "      <td>0</td>\n",
       "      <td>0</td>\n",
       "      <td>0</td>\n",
       "      <td>...</td>\n",
       "      <td>0</td>\n",
       "      <td>9</td>\n",
       "      <td>0</td>\n",
       "      <td>0</td>\n",
       "      <td>0</td>\n",
       "      <td>0</td>\n",
       "      <td>0</td>\n",
       "      <td>0</td>\n",
       "      <td>0</td>\n",
       "      <td>0</td>\n",
       "    </tr>\n",
       "  </tbody>\n",
       "</table>\n",
       "<p>5 rows × 2420 columns</p>\n",
       "</div>"
      ],
      "text/plain": [
       "   Unnamed: 0      sampleID  subject     t  OTU1  OTU10  OTU100  OTU1000  \\\n",
       "0           1   E000823_1.8  E000823   1.8   265      0      16        0   \n",
       "1           2  E000823_10.5  E000823  10.5    74      0      37        0   \n",
       "2           3  E000823_12.5  E000823  12.5   214    295       0        0   \n",
       "3           4    E000823_14  E000823  14.0   753    359       0        0   \n",
       "4           5  E000823_15.7  E000823  15.7   736    188       0        0   \n",
       "\n",
       "   OTU1002  OTU1003   ...    OTU989  OTU99  OTU990  OTU991  OTU992  OTU993  \\\n",
       "0        0        0   ...         0      0       0       0       0       0   \n",
       "1        0        0   ...         0      2       0       0       0       0   \n",
       "2        0        0   ...         0      0       0       0       0       0   \n",
       "3        0        0   ...         0      8       0       0       0       0   \n",
       "4        0        0   ...         0      9       0       0       0       0   \n",
       "\n",
       "   OTU995  OTU997  OTU998  OTU999  \n",
       "0       0       0       0       0  \n",
       "1       0       0       0       0  \n",
       "2       0       0       0       0  \n",
       "3       0       0       0       0  \n",
       "4       0       0       0       0  \n",
       "\n",
       "[5 rows x 2420 columns]"
      ]
     },
     "execution_count": 16,
     "metadata": {},
     "output_type": "execute_result"
    }
   ],
   "source": [
    "d.head()"
   ]
  },
  {
   "cell_type": "code",
   "execution_count": 15,
   "metadata": {
    "collapsed": true
   },
   "outputs": [],
   "source": [
    "subjects = {}\n",
    "count = 1\n",
    "for key, row in d.iterrows():\n",
    "    if row[\"subject\"] not in subjects:\n",
    "        subjects[row[\"subject\"]] = count\n",
    "        count +=1\n",
    "d[\"subject_num\"] = d[\"subject\"].apply(lambda x: subjects[x]) # create subject_num for plotting purposes"
   ]
  },
  {
   "cell_type": "code",
   "execution_count": 29,
   "metadata": {},
   "outputs": [
    {
     "data": {
      "image/png": "[encoded data removed]",
      "text/plain": [
       "<Figure size 1080x720 with 1 Axes>"
      ]
     },
     "metadata": {},
     "output_type": "display_data"
    }
   ],
   "source": [
    "plt.figure(figsize=(15,10))\n",
    "sns.scatterplot(x=\"t\", y=\"subject_num\", data=d)\n",
    "plt.show()"
   ]
  },
  {
   "cell_type": "code",
   "execution_count": 7,
   "metadata": {
    "collapsed": true
   },
   "outputs": [],
   "source": [
    "from skbio.diversity import beta_diversity"
   ]
  },
  {
   "cell_type": "code",
   "execution_count": 24,
   "metadata": {
    "collapsed": true
   },
   "outputs": [],
   "source": [
    "## Get just the OTU data rows (not the metadata rows)\n",
    "otus = [item for item in d.columns if 'OTU' in item]\n",
    "data= d[otus]"
   ]
  },
  {
   "cell_type": "code",
   "execution_count": 28,
   "metadata": {
    "collapsed": true
   },
   "outputs": [],
   "source": [
    "rel_abund = data.div(data.sum(axis=1), axis=0) ## This is a relative abundance table"
   ]
  },
  {
   "cell_type": "code",
   "execution_count": 21,
   "metadata": {},
   "outputs": [
    {
     "name": "stdout",
     "output_type": "stream",
     "text": [
      "1481x1481 distance matrix\n",
      "IDs:\n",
      "'0', '1', '2', '3', '4', '5', '6', '7', '8', '9', '10', '11', '12', '13', '14', ...\n",
      "Data:\n",
      "[[0.     0.5916 0.8226 ... 0.5218 0.7526 0.7114]\n",
      " [0.5916 0.     0.5626 ... 0.77   0.7368 0.749 ]\n",
      " [0.8226 0.5626 0.     ... 0.8968 0.8216 0.8582]\n",
      " ...\n",
      " [0.5218 0.77   0.8968 ... 0.     0.5282 0.5276]\n",
      " [0.7526 0.7368 0.8216 ... 0.5282 0.     0.2452]\n",
      " [0.7114 0.749  0.8582 ... 0.5276 0.2452 0.    ]]\n"
     ]
    }
   ],
   "source": [
    "#Example for calculating bray-curtis between all samples\n",
    "data_np = np.asarray(d[otus])\n",
    "b = beta_diversity(\"braycurtis\", data_np)\n",
    "print(b)"
   ]
  },
  {
   "cell_type": "code",
   "execution_count": 55,
   "metadata": {},
   "outputs": [
    {
     "data": {
      "text/plain": [
       "Int64Index([1460, 1461, 1462, 1463, 1464, 1465, 1466, 1467, 1468, 1469, 1470,\n",
       "            1471, 1472, 1473, 1474, 1475, 1476, 1477, 1478, 1479, 1480],\n",
       "           dtype='int64')"
      ]
     },
     "execution_count": 55,
     "metadata": {},
     "output_type": "execute_result"
    }
   ],
   "source": [
    "abund_subject[abund_subject.columns[0]].index"
   ]
  },
  {
   "cell_type": "code",
   "execution_count": 57,
   "metadata": {},
   "outputs": [
    {
     "data": {
      "text/plain": [
       "10.48"
      ]
     },
     "execution_count": 57,
     "metadata": {},
     "output_type": "execute_result"
    }
   ],
   "source": [
    "d_subject['t'][1460]"
   ]
  },
  {
   "cell_type": "code",
   "execution_count": 51,
   "metadata": {},
   "outputs": [
    {
     "name": "stdout",
     "output_type": "stream",
     "text": [
      "0.0186\n",
      "0.2676\n",
      "0.0932\n",
      "0.1036\n",
      "0.0414\n",
      "0.0942\n",
      "0.145\n",
      "0.1264\n",
      "0.0348\n",
      "0.0202\n",
      "0.002\n",
      "0.0766\n",
      "0.1256\n",
      "0.0388\n",
      "0.0446\n",
      "0.1056\n",
      "0.02\n",
      "0.0006\n",
      "0.0802\n",
      "0.1602\n",
      "0.205\n"
     ]
    }
   ],
   "source": [
    "for n in abund_subject[abund_subject.columns[0]]:\n",
    "    print(n)"
   ]
  },
  {
   "cell_type": "code",
   "execution_count": 67,
   "metadata": {},
   "outputs": [],
   "source": [
    "### Q1: does presence / absence at initial time correlate with end point abund?\n",
    "\n",
    "## Output: OTU, SUBJECT, P/A at T=0, t=END abund\n",
    "q1_dataframe = defaultdict(list)\n",
    "for subject in d['subject'].unique():\n",
    "    # create DF for just this subject\n",
    "    d_subject = d[d.subject == subject]\n",
    "    data_subject = d_subject[otus]\n",
    "    abund_subject = data_subject.div(data_subject.sum(axis=1), axis=0)\n",
    "    # filter to OTUs found at least >5% once in this subject\n",
    "    abund_subject = abund_subject[abund_subject.columns[abund_subject.max() > 0.05]]\n",
    "    #get start day and end day\n",
    "    start_day = d_subject['t'][d_subject.index[0]]\n",
    "    end_day = d_subject['t'][d_subject.index[-1]]\n",
    "    #add each OTU to the dataframe\n",
    "    \n",
    "    for otu in abund_subject.columns:\n",
    "        if list(abund_subject[otu])[0] == 0:\n",
    "            present = 0\n",
    "        else:\n",
    "            present = 1\n",
    "        end_abund = list(abund_subject[otu])[-1]\n",
    "        \n",
    "        # let's get day of arrival\n",
    "        i = 0\n",
    "        for day in abund_subject[otu].index:\n",
    "            if abund_subject[otu][day] > 0:\n",
    "                arrival = d_subject['t'][day]\n",
    "                break\n",
    "            i += 1\n",
    "        q1_dataframe['OTU'].append(otu)\n",
    "        q1_dataframe['subject'].append(subject)\n",
    "        q1_dataframe['t0_presence'].append(present)\n",
    "        q1_dataframe['day_of_arrival'].append(arrival)\n",
    "        q1_dataframe['final_abund'].append(end_abund)\n",
    "        q1_dataframe['start_time'].append(start_day)\n",
    "        q1_dataframe['end_time'].append(end_day)\n",
    "q1_data = pd.DataFrame(q1_dataframe)"
   ]
  },
  {
   "cell_type": "code",
   "execution_count": null,
   "metadata": {
    "collapsed": true
   },
   "outputs": [],
   "source": [
    "### Q2: does Day of Arrival correlate with end point abund?"
   ]
  },
  {
   "cell_type": "code",
   "execution_count": null,
   "metadata": {
    "collapsed": true
   },
   "outputs": [],
   "source": [
    "### Q3: how does Q1 effect change over time?"
   ]
  },
  {
   "cell_type": "code",
   "execution_count": null,
   "metadata": {
    "collapsed": true
   },
   "outputs": [],
   "source": [
    "### Q4: how does Q1 effect change w/ antibiotics?"
   ]
  },
  {
   "cell_type": "code",
   "execution_count": null,
   "metadata": {
    "collapsed": true
   },
   "outputs": [],
   "source": [
    "### Q5: does arrival of some microbes cause an increase in community velocity?"
   ]
  },
  {
   "cell_type": "code",
   "execution_count": 12,
   "metadata": {
    "collapsed": true
   },
   "outputs": [],
   "source": [
    "### Q6: how does community velocity change over time?"
   ]
  },
  {
   "cell_type": "code",
   "execution_count": 13,
   "metadata": {
    "collapsed": true
   },
   "outputs": [],
   "source": [
    "### Q7: do some microbes cause a disproporition increase in velocity (controlled)?"
   ]
  }
 ],
 "metadata": {
  "kernelspec": {
   "display_name": "Python 3 - alexcc",
   "language": "python",
   "name": "python3"
  },
  "language_info": {
   "codemirror_mode": {
    "name": "ipython",
    "version": 3
   },
   "file_extension": ".py",
   "mimetype": "text/x-python",
   "name": "python",
   "nbconvert_exporter": "python",
   "pygments_lexer": "ipython3",
   "version": "3.6.0"
  }
 },
 "nbformat": 4,
 "nbformat_minor": 2
}
